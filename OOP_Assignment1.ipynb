{
 "cells": [
  {
   "cell_type": "code",
   "execution_count": 16,
   "id": "6c1287f5",
   "metadata": {},
   "outputs": [
    {
     "name": "stdout",
     "output_type": "stream",
     "text": [
      "Welcome !!!!!\n",
      "156\n",
      "22\n"
     ]
    }
   ],
   "source": [
    "class calculator:\n",
    "    def __init__(self):\n",
    "        print(\"Welcome !!!!!\")\n",
    "    def sum(self,n1,n2):\n",
    "        print(n1 + n2)\n",
    "    def substract(self,n1,n2):\n",
    "        print(n1 - n2)\n",
    "s1 = calculator()\n",
    "s1.sum(78 , 78)\n",
    "s1.substract(89,67)\n"
   ]
  },
  {
   "cell_type": "code",
   "execution_count": 26,
   "id": "dfdf87e8",
   "metadata": {},
   "outputs": [
    {
     "name": "stdout",
     "output_type": "stream",
     "text": [
      "Sum of given varibales is :  50\n",
      "Sum of given variables  is :  111\n",
      "Sum of given variables is :  210\n",
      "Sum of given varibales is :  173\n",
      "name\n",
      "marks\n",
      "sub\n",
      "Sneha\n",
      "89\n",
      "Maths\n"
     ]
    }
   ],
   "source": [
    "class args:\n",
    "    def positional(self,a,b,c):\n",
    "        print(\"Sum of given varibales is : \",a+b+c)\n",
    "    def default_args(sel,a,b,c=78):\n",
    "        print(\"Sum of given variables  is : \",a+b+c)\n",
    "    def keyword_args(self,a,b,c):\n",
    "        print(\"Sum of given variables is : \",a+b+c)\n",
    "    def var_length(self,*n):\n",
    "        sum = 0\n",
    "        for i in n:\n",
    "            \n",
    "            sum = sum+i\n",
    "        print(\"Sum of given varibales is : \",sum)\n",
    "    def var_length1(self,**h):\n",
    "        for i in h.keys():\n",
    "            print(i)\n",
    "        for j in h.values():\n",
    "            print(j)\n",
    "            \n",
    "s1 = args()    \n",
    "s1.positional(10,20,20)\n",
    "s1.default_args(10,23)\n",
    "s1.keyword_args(a=34,c=78,b=98)\n",
    "s1.var_length(23,45,23,67,6,9)\n",
    "s1.var_length1(name=\"Sneha\",marks=\"89\",sub=\"Maths\")\n",
    "\n",
    "    \n",
    "        \n",
    "        "
   ]
  },
  {
   "cell_type": "code",
   "execution_count": null,
   "id": "495802b8",
   "metadata": {},
   "outputs": [],
   "source": []
  }
 ],
 "metadata": {
  "kernelspec": {
   "display_name": "Python 3 (ipykernel)",
   "language": "python",
   "name": "python3"
  },
  "language_info": {
   "codemirror_mode": {
    "name": "ipython",
    "version": 3
   },
   "file_extension": ".py",
   "mimetype": "text/x-python",
   "name": "python",
   "nbconvert_exporter": "python",
   "pygments_lexer": "ipython3",
   "version": "3.9.12"
  }
 },
 "nbformat": 4,
 "nbformat_minor": 5
}
