{
 "cells": [
  {
   "cell_type": "code",
   "execution_count": 3,
   "id": "e3f617fa",
   "metadata": {},
   "outputs": [],
   "source": [
    "import numpy as np\n"
   ]
  },
  {
   "cell_type": "code",
   "execution_count": 11,
   "id": "aeaa7238",
   "metadata": {},
   "outputs": [
    {
     "data": {
      "text/plain": [
       "array([10., 20., 30., 40.])"
      ]
     },
     "execution_count": 11,
     "metadata": {},
     "output_type": "execute_result"
    }
   ],
   "source": [
    "m1 = np.array([10,20,30,40],float)\n",
    "m1"
   ]
  },
  {
   "cell_type": "code",
   "execution_count": 12,
   "id": "bf215db2",
   "metadata": {},
   "outputs": [
    {
     "data": {
      "text/plain": [
       "dtype('float64')"
      ]
     },
     "execution_count": 12,
     "metadata": {},
     "output_type": "execute_result"
    }
   ],
   "source": [
    "m1.dtype"
   ]
  },
  {
   "cell_type": "code",
   "execution_count": 13,
   "id": "ab682634",
   "metadata": {},
   "outputs": [
    {
     "data": {
      "text/plain": [
       "array(['10.0', '20.0', '30.0', '40.0'], dtype='<U32')"
      ]
     },
     "execution_count": 13,
     "metadata": {},
     "output_type": "execute_result"
    }
   ],
   "source": [
    "m1.astype(str)"
   ]
  },
  {
   "cell_type": "code",
   "execution_count": 25,
   "id": "c1b3ed77",
   "metadata": {},
   "outputs": [
    {
     "data": {
      "text/plain": [
       "array([[1., 0., 0.],\n",
       "       [0., 1., 0.],\n",
       "       [0., 0., 1.]])"
      ]
     },
     "execution_count": 25,
     "metadata": {},
     "output_type": "execute_result"
    }
   ],
   "source": [
    "m = np.identity(3) \n",
    "m"
   ]
  },
  {
   "cell_type": "code",
   "execution_count": 24,
   "id": "0aae2602",
   "metadata": {},
   "outputs": [],
   "source": [
    "x = np.arange(10,20)\n"
   ]
  },
  {
   "cell_type": "code",
   "execution_count": 18,
   "id": "deba9a64",
   "metadata": {},
   "outputs": [
    {
     "data": {
      "text/plain": [
       "array([10, 11, 12, 13, 14, 15, 16, 17, 18, 19])"
      ]
     },
     "execution_count": 18,
     "metadata": {},
     "output_type": "execute_result"
    }
   ],
   "source": [
    "x"
   ]
  },
  {
   "cell_type": "code",
   "execution_count": 19,
   "id": "4de15545",
   "metadata": {},
   "outputs": [
    {
     "data": {
      "text/plain": [
       "10"
      ]
     },
     "execution_count": 19,
     "metadata": {},
     "output_type": "execute_result"
    }
   ],
   "source": [
    "x.size"
   ]
  },
  {
   "cell_type": "code",
   "execution_count": 21,
   "id": "ea3907ee",
   "metadata": {},
   "outputs": [
    {
     "data": {
      "text/plain": [
       "1"
      ]
     },
     "execution_count": 21,
     "metadata": {},
     "output_type": "execute_result"
    }
   ],
   "source": [
    "x.ndim"
   ]
  },
  {
   "cell_type": "code",
   "execution_count": 26,
   "id": "1bafaca2",
   "metadata": {},
   "outputs": [
    {
     "data": {
      "text/plain": [
       "2"
      ]
     },
     "execution_count": 26,
     "metadata": {},
     "output_type": "execute_result"
    }
   ],
   "source": [
    "m.ndim"
   ]
  },
  {
   "cell_type": "code",
   "execution_count": 27,
   "id": "cbc4d3be",
   "metadata": {},
   "outputs": [
    {
     "data": {
      "text/plain": [
       "(10, 1)"
      ]
     },
     "execution_count": 27,
     "metadata": {},
     "output_type": "execute_result"
    }
   ],
   "source": [
    "x.size,x.ndim"
   ]
  },
  {
   "cell_type": "code",
   "execution_count": 30,
   "id": "bcc98179",
   "metadata": {},
   "outputs": [
    {
     "data": {
      "text/plain": [
       "array([[10, 11],\n",
       "       [12, 13],\n",
       "       [14, 15],\n",
       "       [16, 17],\n",
       "       [18, 19]])"
      ]
     },
     "execution_count": 30,
     "metadata": {},
     "output_type": "execute_result"
    }
   ],
   "source": [
    "x.reshape(5,2)"
   ]
  },
  {
   "cell_type": "code",
   "execution_count": 31,
   "id": "79d57f61",
   "metadata": {},
   "outputs": [],
   "source": [
    "x.resize(2,5)"
   ]
  },
  {
   "cell_type": "code",
   "execution_count": 32,
   "id": "52d9da06",
   "metadata": {},
   "outputs": [
    {
     "data": {
      "text/plain": [
       "array([[10, 11, 12, 13, 14],\n",
       "       [15, 16, 17, 18, 19]])"
      ]
     },
     "execution_count": 32,
     "metadata": {},
     "output_type": "execute_result"
    }
   ],
   "source": [
    "x"
   ]
  },
  {
   "cell_type": "code",
   "execution_count": 33,
   "id": "49968917",
   "metadata": {},
   "outputs": [
    {
     "data": {
      "text/plain": [
       "array([10, 11, 12, 13, 14, 15, 16, 17, 18, 19])"
      ]
     },
     "execution_count": 33,
     "metadata": {},
     "output_type": "execute_result"
    }
   ],
   "source": [
    "x.ravel()"
   ]
  },
  {
   "cell_type": "code",
   "execution_count": 42,
   "id": "6b3f80d5",
   "metadata": {},
   "outputs": [],
   "source": [
    "x = np.append(x,[23,45,67])"
   ]
  },
  {
   "cell_type": "code",
   "execution_count": 43,
   "id": "eed13dae",
   "metadata": {},
   "outputs": [],
   "source": [
    "x = np.append(x,(3490,11))"
   ]
  },
  {
   "cell_type": "code",
   "execution_count": 44,
   "id": "8e5b498a",
   "metadata": {},
   "outputs": [
    {
     "data": {
      "text/plain": [
       "array([  10,   11,   12,   13,   14,   15,   16,   17,   18,   19,   23,\n",
       "         45,   67, 3490,   11])"
      ]
     },
     "execution_count": 44,
     "metadata": {},
     "output_type": "execute_result"
    }
   ],
   "source": [
    "x"
   ]
  },
  {
   "cell_type": "code",
   "execution_count": 46,
   "id": "d593bc68",
   "metadata": {},
   "outputs": [
    {
     "data": {
      "text/plain": [
       "array([[  10,   11,   12],\n",
       "       [  13,   14,   15],\n",
       "       [  16,   17,   18],\n",
       "       [  19,   23,   45],\n",
       "       [  67, 3490,   11]])"
      ]
     },
     "execution_count": 46,
     "metadata": {},
     "output_type": "execute_result"
    }
   ],
   "source": [
    "x.reshape(5,3)"
   ]
  },
  {
   "cell_type": "code",
   "execution_count": 47,
   "id": "c83386ac",
   "metadata": {},
   "outputs": [],
   "source": [
    "x.resize(5,3)"
   ]
  },
  {
   "cell_type": "code",
   "execution_count": 48,
   "id": "f2b5d66b",
   "metadata": {},
   "outputs": [
    {
     "data": {
      "text/plain": [
       "array([[  10,   11,   12],\n",
       "       [  13,   14,   15],\n",
       "       [  16,   17,   18],\n",
       "       [  19,   23,   45],\n",
       "       [  67, 3490,   11]])"
      ]
     },
     "execution_count": 48,
     "metadata": {},
     "output_type": "execute_result"
    }
   ],
   "source": [
    "x"
   ]
  },
  {
   "cell_type": "code",
   "execution_count": 51,
   "id": "a914f05e",
   "metadata": {},
   "outputs": [
    {
     "data": {
      "text/plain": [
       "array([[  10,   11,   12],\n",
       "       [  16,   17,   18],\n",
       "       [  19,   23,   45],\n",
       "       [  67, 3490,   11]])"
      ]
     },
     "execution_count": 51,
     "metadata": {},
     "output_type": "execute_result"
    }
   ],
   "source": [
    "np.delete(x,1,axis=0)"
   ]
  },
  {
   "cell_type": "code",
   "execution_count": 66,
   "id": "af315b1a",
   "metadata": {},
   "outputs": [
    {
     "name": "stdout",
     "output_type": "stream",
     "text": [
      "[[  100   110   120]\n",
      " [  130   140   150]\n",
      " [  160   170   180]\n",
      " [  190   230   450]\n",
      " [  670 34900   110]]\n"
     ]
    }
   ],
   "source": [
    " #Multiply\n",
    "a  = np.multiply(x,10)\n",
    "print(a)"
   ]
  },
  {
   "cell_type": "code",
   "execution_count": 67,
   "id": "82c7a9ab",
   "metadata": {},
   "outputs": [
    {
     "name": "stdout",
     "output_type": "stream",
     "text": [
      "int32\n",
      "[[  10   11   12]\n",
      " [  13   14   15]\n",
      " [  16   17   18]\n",
      " [  19   23   45]\n",
      " [  67 3490   11]]\n"
     ]
    }
   ],
   "source": [
    " #Divide\n",
    "a = np.divide(a,10)\n",
    "a = a.astype(int)\n",
    "print(a.dtype)\n",
    "print(a)"
   ]
  },
  {
   "cell_type": "code",
   "execution_count": 70,
   "id": "07a8f6e2",
   "metadata": {},
   "outputs": [
    {
     "name": "stdout",
     "output_type": "stream",
     "text": [
      "[[  1   1   1]\n",
      " [  1   1   1]\n",
      " [  1   1   1]\n",
      " [  1   2   4]\n",
      " [  6 349   1]]\n"
     ]
    }
   ],
   "source": [
    "print(np.floor_divide(a,10))"
   ]
  },
  {
   "cell_type": "code",
   "execution_count": 73,
   "id": "d2b413fd",
   "metadata": {},
   "outputs": [
    {
     "name": "stdout",
     "output_type": "stream",
     "text": [
      "[[     100      121      144]\n",
      " [     169      196      225]\n",
      " [     256      289      324]\n",
      " [     361      529     2025]\n",
      " [    4489 12180100      121]]\n"
     ]
    }
   ],
   "source": [
    "print(np.power(a,2))"
   ]
  },
  {
   "cell_type": "code",
   "execution_count": 74,
   "id": "ce701cbc",
   "metadata": {},
   "outputs": [
    {
     "name": "stdout",
     "output_type": "stream",
     "text": [
      "[[0 1 2]\n",
      " [3 4 5]\n",
      " [6 7 8]\n",
      " [9 3 5]\n",
      " [7 0 1]]\n"
     ]
    }
   ],
   "source": [
    "print(np.mod(a,10))"
   ]
  },
  {
   "cell_type": "code",
   "execution_count": 75,
   "id": "7b2ae516",
   "metadata": {},
   "outputs": [
    {
     "data": {
      "text/plain": [
       "array([  10,   21,   33,   46,   60,   75,   91,  108,  126,  145,  168,\n",
       "        213,  280, 3770, 3781], dtype=int32)"
      ]
     },
     "execution_count": 75,
     "metadata": {},
     "output_type": "execute_result"
    }
   ],
   "source": [
    "np.cumsum(a)"
   ]
  },
  {
   "cell_type": "code",
   "execution_count": 76,
   "id": "8e0e6030",
   "metadata": {},
   "outputs": [
    {
     "data": {
      "text/plain": [
       "array([         10,         110,        1320,       17160,      240240,\n",
       "           3603600,    57657600,   980179200,   463356416,   213837312,\n",
       "         623290880, -2016681472, -1973672448,  1010699264, -1767209984],\n",
       "      dtype=int32)"
      ]
     },
     "execution_count": 76,
     "metadata": {},
     "output_type": "execute_result"
    }
   ],
   "source": [
    "np.cumprod(a)"
   ]
  },
  {
   "cell_type": "code",
   "execution_count": 78,
   "id": "926ad0a9",
   "metadata": {},
   "outputs": [
    {
     "data": {
      "text/plain": [
       "array([  33,   42,   51,   87, 3568])"
      ]
     },
     "execution_count": 78,
     "metadata": {},
     "output_type": "execute_result"
    }
   ],
   "source": [
    "\"\"\"\n",
    " [  10   11   12]\n",
    " [  13   14   15]\n",
    " [  16   17   18]\n",
    " [  19   23   45]\n",
    " [  67 3490   11]\n",
    " \"\"\"\n",
    "np.sum(a,axis=1)"
   ]
  },
  {
   "cell_type": "code",
   "execution_count": 79,
   "id": "ac779e43",
   "metadata": {},
   "outputs": [
    {
     "data": {
      "text/plain": [
       "array([ 125, 3555,  101])"
      ]
     },
     "execution_count": 79,
     "metadata": {},
     "output_type": "execute_result"
    }
   ],
   "source": [
    "np.sum(a,axis=0)"
   ]
  },
  {
   "cell_type": "code",
   "execution_count": 80,
   "id": "7e57ff73",
   "metadata": {},
   "outputs": [
    {
     "data": {
      "text/plain": [
       "252.06666666666666"
      ]
     },
     "execution_count": 80,
     "metadata": {},
     "output_type": "execute_result"
    }
   ],
   "source": [
    "np.mean(a)"
   ]
  },
  {
   "cell_type": "code",
   "execution_count": 81,
   "id": "74cac322",
   "metadata": {},
   "outputs": [
    {
     "data": {
      "text/plain": [
       "array([ 25. , 711. ,  20.2])"
      ]
     },
     "execution_count": 81,
     "metadata": {},
     "output_type": "execute_result"
    }
   ],
   "source": [
    "np.mean(a,axis=0)"
   ]
  },
  {
   "cell_type": "code",
   "execution_count": 82,
   "id": "8b12690a",
   "metadata": {},
   "outputs": [
    {
     "data": {
      "text/plain": [
       "array([  11.        ,   14.        ,   17.        ,   29.        ,\n",
       "       1189.33333333])"
      ]
     },
     "execution_count": 82,
     "metadata": {},
     "output_type": "execute_result"
    }
   ],
   "source": [
    "np.mean(a,axis=1)"
   ]
  },
  {
   "cell_type": "code",
   "execution_count": 83,
   "id": "a5f2b5af",
   "metadata": {},
   "outputs": [
    {
     "data": {
      "text/plain": [
       "array([8.16496581e-01, 8.16496581e-01, 8.16496581e-01, 1.14309521e+01,\n",
       "       1.62697763e+03])"
      ]
     },
     "execution_count": 83,
     "metadata": {},
     "output_type": "execute_result"
    }
   ],
   "source": [
    "np.std(a,axis=1)"
   ]
  },
  {
   "cell_type": "code",
   "execution_count": 84,
   "id": "e7c7896e",
   "metadata": {},
   "outputs": [
    {
     "data": {
      "text/plain": [
       "array([10, 13, 16, 19, 11])"
      ]
     },
     "execution_count": 84,
     "metadata": {},
     "output_type": "execute_result"
    }
   ],
   "source": [
    "np.min(a,axis=1)"
   ]
  },
  {
   "cell_type": "code",
   "execution_count": 85,
   "id": "152c49c8",
   "metadata": {},
   "outputs": [
    {
     "data": {
      "text/plain": [
       "array([  12,   15,   18,   45, 3490])"
      ]
     },
     "execution_count": 85,
     "metadata": {},
     "output_type": "execute_result"
    }
   ],
   "source": [
    "np.max(a,axis=1)"
   ]
  },
  {
   "cell_type": "raw",
   "id": "13807022",
   "metadata": {},
   "source": [
    "create 4x4 array with all True values\n",
    "create 4x4 array with all False values\n",
    "create 4x4 array whose diagonal element should be True and Non diagonal False\n",
    "create 4x4 array whose diagonal element should be False and Non diagonal True"
   ]
  },
  {
   "cell_type": "code",
   "execution_count": 89,
   "id": "5e3ea61d",
   "metadata": {},
   "outputs": [
    {
     "data": {
      "text/plain": [
       "array([[1., 0., 0., 0.],\n",
       "       [0., 1., 0., 0.],\n",
       "       [0., 0., 1., 0.],\n",
       "       [0., 0., 0., 1.]])"
      ]
     },
     "execution_count": 89,
     "metadata": {},
     "output_type": "execute_result"
    }
   ],
   "source": [
    "np.identity(4)"
   ]
  },
  {
   "cell_type": "code",
   "execution_count": 118,
   "id": "23f8c553",
   "metadata": {},
   "outputs": [],
   "source": [
    "n = np.full((4,4),True)"
   ]
  },
  {
   "cell_type": "code",
   "execution_count": 119,
   "id": "f8deb411",
   "metadata": {},
   "outputs": [
    {
     "data": {
      "text/plain": [
       "array([[ True,  True,  True,  True],\n",
       "       [ True,  True,  True,  True],\n",
       "       [ True,  True,  True,  True],\n",
       "       [ True,  True,  True,  True]])"
      ]
     },
     "execution_count": 119,
     "metadata": {},
     "output_type": "execute_result"
    }
   ],
   "source": [
    "n"
   ]
  },
  {
   "cell_type": "code",
   "execution_count": 124,
   "id": "8a78ea44",
   "metadata": {},
   "outputs": [
    {
     "data": {
      "text/plain": [
       "array([[False, False, False, False],\n",
       "       [False, False, False, False],\n",
       "       [False, False, False, False],\n",
       "       [False, False, False, False]])"
      ]
     },
     "execution_count": 124,
     "metadata": {},
     "output_type": "execute_result"
    }
   ],
   "source": [
    "m = np.full((4,4),False)\n",
    "m"
   ]
  },
  {
   "cell_type": "code",
   "execution_count": 121,
   "id": "507dd415",
   "metadata": {},
   "outputs": [],
   "source": [
    "#create 4x4 array whose diagonal element should be True and Non diagonal False\n",
    "for i in range(4):\n",
    "    for j in range(4):\n",
    "        if i==j:\n",
    "            m[i][j]=True\n",
    "        "
   ]
  },
  {
   "cell_type": "code",
   "execution_count": 122,
   "id": "78115383",
   "metadata": {},
   "outputs": [
    {
     "data": {
      "text/plain": [
       "array([[ True, False, False, False],\n",
       "       [False,  True, False, False],\n",
       "       [False, False,  True, False],\n",
       "       [False, False, False,  True]])"
      ]
     },
     "execution_count": 122,
     "metadata": {},
     "output_type": "execute_result"
    }
   ],
   "source": [
    "m"
   ]
  },
  {
   "cell_type": "code",
   "execution_count": 123,
   "id": "35eba649",
   "metadata": {},
   "outputs": [
    {
     "name": "stdout",
     "output_type": "stream",
     "text": [
      "[[False  True  True  True]\n",
      " [ True False  True  True]\n",
      " [ True  True False  True]\n",
      " [ True  True  True False]]\n"
     ]
    }
   ],
   "source": [
    "#create 4x4 array whose diagonal element should be False and Non diagonal True\n",
    "for i in range(4):\n",
    "    for j in range(4):\n",
    "        if i==j:\n",
    "            n[i][j]=False\n",
    "print(n)    "
   ]
  },
  {
   "cell_type": "code",
   "execution_count": null,
   "id": "926cc0f6",
   "metadata": {},
   "outputs": [],
   "source": []
  },
  {
   "cell_type": "code",
   "execution_count": null,
   "id": "28968f1c",
   "metadata": {},
   "outputs": [],
   "source": []
  }
 ],
 "metadata": {
  "kernelspec": {
   "display_name": "Python 3 (ipykernel)",
   "language": "python",
   "name": "python3"
  },
  "language_info": {
   "codemirror_mode": {
    "name": "ipython",
    "version": 3
   },
   "file_extension": ".py",
   "mimetype": "text/x-python",
   "name": "python",
   "nbconvert_exporter": "python",
   "pygments_lexer": "ipython3",
   "version": "3.9.12"
  }
 },
 "nbformat": 4,
 "nbformat_minor": 5
}
